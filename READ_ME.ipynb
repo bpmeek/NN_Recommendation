{
 "cells": [
  {
   "cell_type": "code",
   "execution_count": 1,
   "metadata": {},
   "outputs": [
    {
     "name": "stderr",
     "output_type": "stream",
     "text": [
      "Using TensorFlow backend.\n"
     ]
    }
   ],
   "source": [
    "#import dependencies\n",
    "import numpy as np\n",
    "import pandas as pd\n",
    "import warnings\n",
    "\n",
    "from keras.layers import Input, Embedding, Flatten, Dot, Dense, Concatenate\n",
    "from keras.models import Model\n",
    "from sklearn.model_selection import train_test_split\n",
    "\n",
    "warnings.filterwarnings('ignore')"
   ]
  },
  {
   "cell_type": "code",
   "execution_count": 2,
   "metadata": {},
   "outputs": [],
   "source": [
    "#set debug to true for faster processing\n",
    "is_debug = False"
   ]
  },
  {
   "cell_type": "code",
   "execution_count": 3,
   "metadata": {},
   "outputs": [],
   "source": [
    "#load data\n",
    "if is_debug==True:\n",
    "    dataset = pd.read_csv('ml-20m/ratings.csv', nrows=100)\n",
    "else:\n",
    "    dataset = pd.read_csv('ml-20m/ratings.csv')\n",
    "\n",
    "#get count of users and movies for embedding layers\n",
    "n_users = len(dataset.userId.unique())\n",
    "n_movies = len(dataset.movieId.unique())\n",
    "\n",
    "#split data\n",
    "train, test = train_test_split(dataset, test_size=0.2, random_state=42)"
   ]
  },
  {
   "cell_type": "code",
   "execution_count": 4,
   "metadata": {},
   "outputs": [
    {
     "name": "stdout",
     "output_type": "stream",
     "text": [
      "WARNING:tensorflow:From /home/dev/Development/anaconda3/lib/python3.6/site-packages/tensorflow/python/framework/op_def_library.py:263: colocate_with (from tensorflow.python.framework.ops) is deprecated and will be removed in a future version.\n",
      "Instructions for updating:\n",
      "Colocations handled automatically by placer.\n",
      "__________________________________________________________________________________________________\n",
      "Layer (type)                    Output Shape         Param #     Connected to                     \n",
      "==================================================================================================\n",
      "Movie-Input (InputLayer)        (None, 1)            0                                            \n",
      "__________________________________________________________________________________________________\n",
      "User-Input (InputLayer)         (None, 1)            0                                            \n",
      "__________________________________________________________________________________________________\n",
      "Movie-Embedding (Embedding)     (None, 1, 5)         133725      Movie-Input[0][0]                \n",
      "__________________________________________________________________________________________________\n",
      "User-Embedding (Embedding)      (None, 1, 5)         692470      User-Input[0][0]                 \n",
      "__________________________________________________________________________________________________\n",
      "Flatten-Movies (Flatten)        (None, 5)            0           Movie-Embedding[0][0]            \n",
      "__________________________________________________________________________________________________\n",
      "Flatten-Users (Flatten)         (None, 5)            0           User-Embedding[0][0]             \n",
      "__________________________________________________________________________________________________\n",
      "concatenate_1 (Concatenate)     (None, 10)           0           Flatten-Movies[0][0]             \n",
      "                                                                 Flatten-Users[0][0]              \n",
      "__________________________________________________________________________________________________\n",
      "dense_1 (Dense)                 (None, 128)          1408        concatenate_1[0][0]              \n",
      "__________________________________________________________________________________________________\n",
      "dense_2 (Dense)                 (None, 32)           4128        dense_1[0][0]                    \n",
      "__________________________________________________________________________________________________\n",
      "dense_3 (Dense)                 (None, 1)            33          dense_2[0][0]                    \n",
      "==================================================================================================\n",
      "Total params: 831,764\n",
      "Trainable params: 831,764\n",
      "Non-trainable params: 0\n",
      "__________________________________________________________________________________________________\n"
     ]
    }
   ],
   "source": [
    "#create embedding path\n",
    "movie_input = Input(shape=[1], name=\"Movie-Input\")\n",
    "movie_embedding = Embedding(n_movies+1, 5, name=\"Movie-Embedding\")(movie_input)\n",
    "movie_vec = Flatten(name=\"Flatten-Movies\")(movie_embedding)\n",
    "\n",
    "#create user embedding path\n",
    "user_input = Input(shape=[1], name=\"User-Input\")\n",
    "user_embedding = Embedding(n_users+1, 5, name=\"User-Embedding\")(user_input)\n",
    "user_vec = Flatten(name=\"Flatten-Users\")(user_embedding)\n",
    "\n",
    "#concatenate features\n",
    "conc = Concatenate()([movie_vec, user_vec])\n",
    "\n",
    "#fully connected layers\n",
    "fc1 = Dense(128, activation='relu')(conc)\n",
    "fc2 = Dense(32, activation='relu')(fc1)\n",
    "out = Dense(1)(fc2)\n",
    "\n",
    "#create and compile model\n",
    "model = Model([user_input, movie_input], out)\n",
    "model.compile('adam','mean_squared_error')\n",
    "model.summary()"
   ]
  },
  {
   "cell_type": "code",
   "execution_count": 5,
   "metadata": {},
   "outputs": [
    {
     "name": "stdout",
     "output_type": "stream",
     "text": [
      "WARNING:tensorflow:From /home/dev/Development/anaconda3/lib/python3.6/site-packages/tensorflow/python/ops/math_ops.py:3066: to_int32 (from tensorflow.python.ops.math_ops) is deprecated and will be removed in a future version.\n",
      "Instructions for updating:\n",
      "Use tf.cast instead.\n",
      "Epoch 1/5\n",
      "16000210/16000210 [==============================] - 250s 16us/step - loss: 0.7618\n",
      "Epoch 2/5\n",
      "16000210/16000210 [==============================] - 259s 16us/step - loss: 0.6998\n",
      "Epoch 3/5\n",
      "16000210/16000210 [==============================] - 269s 17us/step - loss: 2.4326\n",
      "Epoch 4/5\n",
      "16000210/16000210 [==============================] - 279s 17us/step - loss: 0.6824\n",
      "Epoch 5/5\n",
      "16000210/16000210 [==============================] - 265s 17us/step - loss: 0.6788\n",
      "4000053/4000053 [==============================] - 59s 15us/step\n"
     ]
    },
    {
     "data": {
      "text/plain": [
       "0.6848732901450331"
      ]
     },
     "execution_count": 5,
     "metadata": {},
     "output_type": "execute_result"
    }
   ],
   "source": [
    "if is_debug==True:\n",
    "    epochs=1\n",
    "    batch_size=len(dataset)\n",
    "else:\n",
    "    epochs=5\n",
    "    batch_size=128\n",
    "\n",
    "model.fit([train.userId, train.movieId], train.rating, batch_size=128, epochs=epochs, verbose=1)\n",
    "model.save('NN_Movie_Model.h5')\n",
    "\n",
    "model.evaluate([test.userId, test.movieId], test.rating)"
   ]
  },
  {
   "cell_type": "code",
   "execution_count": 23,
   "metadata": {},
   "outputs": [
    {
     "name": "stdout",
     "output_type": "stream",
     "text": [
      "   movieId\n",
      "0     7044\n",
      "1     5856\n",
      "2      317\n",
      "3      259\n",
      "4     4900\n"
     ]
    }
   ],
   "source": [
    "#data set for first user\n",
    "movie_data = np.array(list(set(dataset.movieId)))\n",
    "user = np.array([2 for i in range(len(movie_data))])\n",
    "\n",
    "#predict movies for first user\n",
    "predictions = model.predict([user, movie_data])\n",
    "predictions = np.array([a[0] for a in predictions])\n",
    "#keep top 5 predictions\n",
    "recommended_movie_ids = pd.DataFrame((-predictions).argsort()[:5],columns=['movieId'])\n",
    "\n",
    "print(recommended_movie_ids)"
   ]
  },
  {
   "cell_type": "code",
   "execution_count": 15,
   "metadata": {},
   "outputs": [
    {
     "name": "stdout",
     "output_type": "stream",
     "text": [
      "   movieId                               title  \\\n",
      "0        1                    Toy Story (1995)   \n",
      "1        2                      Jumanji (1995)   \n",
      "2        3             Grumpier Old Men (1995)   \n",
      "3        4            Waiting to Exhale (1995)   \n",
      "4        5  Father of the Bride Part II (1995)   \n",
      "\n",
      "                                        genres  \n",
      "0  Adventure|Animation|Children|Comedy|Fantasy  \n",
      "1                   Adventure|Children|Fantasy  \n",
      "2                               Comedy|Romance  \n",
      "3                         Comedy|Drama|Romance  \n",
      "4                                       Comedy  \n"
     ]
    }
   ],
   "source": [
    "#join movie data set to get movie titles\n",
    "movie_dataset = pd.read_csv('ml-20m/movies.csv')\n",
    "print(movie_dataset.head(5))"
   ]
  },
  {
   "cell_type": "code",
   "execution_count": 24,
   "metadata": {},
   "outputs": [],
   "source": [
    "recommended_df = pd.merge(recommended_movie_ids, movie_dataset, how='left', \n",
    "                left_on='movieId', right_on='movieId')"
   ]
  },
  {
   "cell_type": "code",
   "execution_count": 25,
   "metadata": {},
   "outputs": [
    {
     "name": "stdout",
     "output_type": "stream",
     "text": [
      "0                                 Wild at Heart (1990)\n",
      "1    Do You Remember Dolly Bell? (Sjecas li se, Dol...\n",
      "2                             Santa Clause, The (1994)\n",
      "3                                 Kiss of Death (1995)\n",
      "4                                      Out Cold (2001)\n",
      "Name: title, dtype: object\n"
     ]
    }
   ],
   "source": [
    "print(recommended_df['title'])"
   ]
  },
  {
   "cell_type": "code",
   "execution_count": null,
   "metadata": {},
   "outputs": [],
   "source": []
  }
 ],
 "metadata": {
  "kernelspec": {
   "display_name": "Python 3",
   "language": "python",
   "name": "python3"
  },
  "language_info": {
   "codemirror_mode": {
    "name": "ipython",
    "version": 3
   },
   "file_extension": ".py",
   "mimetype": "text/x-python",
   "name": "python",
   "nbconvert_exporter": "python",
   "pygments_lexer": "ipython3",
   "version": "3.6.8"
  }
 },
 "nbformat": 4,
 "nbformat_minor": 2
}
